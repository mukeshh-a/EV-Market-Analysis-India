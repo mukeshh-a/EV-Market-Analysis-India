{
    "metadata": {
        "kernelspec": {
            "name": "SQL",
            "display_name": "SQL",
            "language": "sql"
        },
        "language_info": {
            "name": "sql",
            "version": ""
        }
    },
    "nbformat_minor": 2,
    "nbformat": 4,
    "cells": [
        {
            "cell_type": "markdown",
            "source": [
                "# Primary Research Questions"
            ],
            "metadata": {
                "azdata_cell_guid": "4de25257-8e65-4f47-957a-466f6450c361"
            },
            "attachments": {}
        },
        {
            "cell_type": "markdown",
            "source": [
                "## <span style=\"color: #008000;\">1. List the top 3 and bottom 3 makers for the fiscal years 2023 and 2024 in terms of the number of 2-wheelers sold.</span>"
            ],
            "metadata": {
                "azdata_cell_guid": "86256b11-81a5-4d74-ac57-804ef867a5bc"
            },
            "attachments": {}
        },
        {
            "cell_type": "markdown",
            "source": [
                "### <span style=\"color: #008000;\">Top 3 Makers</span>"
            ],
            "metadata": {
                "azdata_cell_guid": "306772ee-ba85-45f5-97b9-3d148f272194"
            },
            "attachments": {}
        },
        {
            "cell_type": "code",
            "source": [
                "USE ev_sales_db;"
            ],
            "metadata": {
                "azdata_cell_guid": "a76491ea-75d6-431a-9902-e1ed24680fd0",
                "language": "sql"
            },
            "outputs": [
                {
                    "output_type": "display_data",
                    "data": {
                        "text/html": "Commands completed successfully."
                    },
                    "metadata": {}
                },
                {
                    "output_type": "display_data",
                    "data": {
                        "text/html": "Total execution time: 00:00:00.001"
                    },
                    "metadata": {}
                }
            ],
            "execution_count": 2
        },
        {
            "cell_type": "code",
            "source": [
                "SELECT TOP 3\r\n",
                "    m.maker AS Maker,\r\n",
                "    SUM(m.electric_vehicles_sold) AS EV_Sold\r\n",
                "FROM electric_vehicle_sales_by_makers m\r\n",
                "INNER JOIN dim_date d ON m.date = d.date\r\n",
                "WHERE d.fiscal_year IN (2023, 2024)\r\n",
                "    AND m.vehicle_category = '2-Wheelers'\r\n",
                "GROUP BY m.maker\r\n",
                "ORDER BY SUM(m.electric_vehicles_sold) DESC;"
            ],
            "metadata": {
                "azdata_cell_guid": "b62689b4-c403-40f5-a19c-b242ca465704",
                "language": "sql"
            },
            "outputs": [
                {
                    "output_type": "display_data",
                    "data": {
                        "text/html": "(3 rows affected)"
                    },
                    "metadata": {}
                },
                {
                    "output_type": "display_data",
                    "data": {
                        "text/html": "Total execution time: 00:00:00.376"
                    },
                    "metadata": {}
                },
                {
                    "output_type": "execute_result",
                    "metadata": {},
                    "execution_count": 3,
                    "data": {
                        "application/vnd.dataresource+json": {
                            "schema": {
                                "fields": [
                                    {
                                        "name": "Maker"
                                    },
                                    {
                                        "name": "EV_Sold"
                                    }
                                ]
                            },
                            "data": [
                                {
                                    "Maker": "OLA ELECTRIC",
                                    "EV_Sold": "475072"
                                },
                                {
                                    "Maker": "TVS",
                                    "EV_Sold": "262836"
                                },
                                {
                                    "Maker": "ATHER",
                                    "EV_Sold": "184473"
                                }
                            ]
                        },
                        "text/html": [
                            "<table>",
                            "<tr><th>Maker</th><th>EV_Sold</th></tr>",
                            "<tr><td>OLA ELECTRIC</td><td>475072</td></tr>",
                            "<tr><td>TVS</td><td>262836</td></tr>",
                            "<tr><td>ATHER</td><td>184473</td></tr>",
                            "</table>"
                        ]
                    }
                }
            ],
            "execution_count": 3
        },
        {
            "cell_type": "markdown",
            "source": [
                "### <span style=\"color: #008000;\">Bottom 3 Makers</span>"
            ],
            "metadata": {
                "language": "sql",
                "azdata_cell_guid": "d813db8b-c830-4d81-a17a-0360a5fead88"
            },
            "attachments": {}
        },
        {
            "cell_type": "code",
            "source": [
                "SELECT TOP 3\r\n",
                "    m.maker AS Maker,\r\n",
                "    SUM(m.electric_vehicles_sold) AS EV_Sold\r\n",
                "FROM electric_vehicle_sales_by_makers m\r\n",
                "INNER JOIN dim_date d ON m.date = d.date\r\n",
                "WHERE d.fiscal_year IN (2023, 2024)\r\n",
                "    AND m.vehicle_category = '2-Wheelers'\r\n",
                "GROUP BY m.maker\r\n",
                "ORDER BY SUM(m.electric_vehicles_sold) ASC;"
            ],
            "metadata": {
                "language": "sql",
                "azdata_cell_guid": "57bff0e0-9938-4477-992f-7a2e2d238e94"
            },
            "outputs": [
                {
                    "output_type": "display_data",
                    "data": {
                        "text/html": "(3 rows affected)"
                    },
                    "metadata": {}
                },
                {
                    "output_type": "display_data",
                    "data": {
                        "text/html": "Total execution time: 00:00:00.035"
                    },
                    "metadata": {}
                },
                {
                    "output_type": "execute_result",
                    "metadata": {},
                    "execution_count": 4,
                    "data": {
                        "application/vnd.dataresource+json": {
                            "schema": {
                                "fields": [
                                    {
                                        "name": "Maker"
                                    },
                                    {
                                        "name": "EV_Sold"
                                    }
                                ]
                            },
                            "data": [
                                {
                                    "Maker": "BATTRE ELECTRIC",
                                    "EV_Sold": "4841"
                                },
                                {
                                    "Maker": "JITENDRA",
                                    "EV_Sold": "8563"
                                },
                                {
                                    "Maker": "KINETIC GREEN",
                                    "EV_Sold": "9585"
                                }
                            ]
                        },
                        "text/html": [
                            "<table>",
                            "<tr><th>Maker</th><th>EV_Sold</th></tr>",
                            "<tr><td>BATTRE ELECTRIC</td><td>4841</td></tr>",
                            "<tr><td>JITENDRA</td><td>8563</td></tr>",
                            "<tr><td>KINETIC GREEN</td><td>9585</td></tr>",
                            "</table>"
                        ]
                    }
                }
            ],
            "execution_count": 4
        },
        {
            "cell_type": "markdown",
            "source": [
                "## <span style=\"color: #008000;\">2. Identify the top 5 states with the highest penetration rate in 2-wheeler </span> <span style=\"color: rgb(0, 128, 0);\">and 4-wheeler EV sales in FY 2024.</span>"
            ],
            "metadata": {
                "azdata_cell_guid": "165800de-a449-42d6-b82e-a594a4cab861"
            },
            "attachments": {}
        },
        {
            "cell_type": "markdown",
            "source": [
                "### <span style=\"color: #008000;\">For 2-Wheelers</span>"
            ],
            "metadata": {
                "language": "sql",
                "azdata_cell_guid": "342133e3-ca07-44d8-8dfc-55ecbb2fc390"
            },
            "attachments": {}
        },
        {
            "cell_type": "code",
            "source": [
                "SELECT TOP 5\r\n",
                "    s.state,\r\n",
                "    ROUND(SUM(s.electric_vehicles_sold)/CAST(SUM(s.total_vehicles_sold) AS float) * 100, 2) Penetration_Rate\r\n",
                "FROM electric_vehicle_sales_by_state s\r\n",
                "INNER JOIN dim_date d ON s.date = d.date\r\n",
                "WHERE s.vehicle_category = '2-Wheelers'\r\n",
                "    AND d.fiscal_year = 2024\r\n",
                "GROUP BY s.state\r\n",
                "ORDER BY Penetration_Rate DESC;"
            ],
            "metadata": {
                "azdata_cell_guid": "777c9fa4-2d43-4de1-8d86-d61850a7dac8",
                "language": "sql"
            },
            "outputs": [
                {
                    "output_type": "display_data",
                    "data": {
                        "text/html": "(5 rows affected)"
                    },
                    "metadata": {}
                },
                {
                    "output_type": "display_data",
                    "data": {
                        "text/html": "Total execution time: 00:00:00.115"
                    },
                    "metadata": {}
                },
                {
                    "output_type": "execute_result",
                    "metadata": {},
                    "execution_count": 5,
                    "data": {
                        "application/vnd.dataresource+json": {
                            "schema": {
                                "fields": [
                                    {
                                        "name": "state"
                                    },
                                    {
                                        "name": "Penetration_Rate"
                                    }
                                ]
                            },
                            "data": [
                                {
                                    "state": "Goa",
                                    "Penetration_Rate": "17.99"
                                },
                                {
                                    "state": "Kerala",
                                    "Penetration_Rate": "13.52"
                                },
                                {
                                    "state": "Karnataka",
                                    "Penetration_Rate": "11.57"
                                },
                                {
                                    "state": "Maharashtra",
                                    "Penetration_Rate": "10.07"
                                },
                                {
                                    "state": "Delhi",
                                    "Penetration_Rate": "9.4"
                                }
                            ]
                        },
                        "text/html": [
                            "<table>",
                            "<tr><th>state</th><th>Penetration_Rate</th></tr>",
                            "<tr><td>Goa</td><td>17.99</td></tr>",
                            "<tr><td>Kerala</td><td>13.52</td></tr>",
                            "<tr><td>Karnataka</td><td>11.57</td></tr>",
                            "<tr><td>Maharashtra</td><td>10.07</td></tr>",
                            "<tr><td>Delhi</td><td>9.4</td></tr>",
                            "</table>"
                        ]
                    }
                }
            ],
            "execution_count": 5
        },
        {
            "cell_type": "markdown",
            "source": [
                "### <span style=\"color: #008000;\">For 4-Wheelers</span>"
            ],
            "metadata": {
                "language": "sql",
                "azdata_cell_guid": "cb19b279-3198-42d1-a770-b7b925f603d3"
            },
            "attachments": {}
        },
        {
            "cell_type": "code",
            "source": [
                "SELECT TOP 5\r\n",
                "    s.state,\r\n",
                "    ROUND(SUM(s.electric_vehicles_sold)/CAST(SUM(s.total_vehicles_sold) AS float) * 100, 2) Penetration_Rate\r\n",
                "FROM electric_vehicle_sales_by_state s\r\n",
                "INNER JOIN dim_date d ON s.date = d.date\r\n",
                "WHERE s.vehicle_category = '4-Wheelers'\r\n",
                "    AND d.fiscal_year = 2024\r\n",
                "GROUP BY s.state\r\n",
                "ORDER BY Penetration_Rate DESC;"
            ],
            "metadata": {
                "language": "sql",
                "azdata_cell_guid": "124615c4-0a79-41fb-ab6d-50af4b22ecfb"
            },
            "outputs": [
                {
                    "output_type": "display_data",
                    "data": {
                        "text/html": "(5 rows affected)"
                    },
                    "metadata": {}
                },
                {
                    "output_type": "display_data",
                    "data": {
                        "text/html": "Total execution time: 00:00:00.032"
                    },
                    "metadata": {}
                },
                {
                    "output_type": "execute_result",
                    "metadata": {},
                    "execution_count": 6,
                    "data": {
                        "application/vnd.dataresource+json": {
                            "schema": {
                                "fields": [
                                    {
                                        "name": "state"
                                    },
                                    {
                                        "name": "Penetration_Rate"
                                    }
                                ]
                            },
                            "data": [
                                {
                                    "state": "Kerala",
                                    "Penetration_Rate": "5.76"
                                },
                                {
                                    "state": "Chandigarh",
                                    "Penetration_Rate": "4.5"
                                },
                                {
                                    "state": "Delhi",
                                    "Penetration_Rate": "4.29"
                                },
                                {
                                    "state": "Karnataka",
                                    "Penetration_Rate": "4.26"
                                },
                                {
                                    "state": "Goa",
                                    "Penetration_Rate": "4.25"
                                }
                            ]
                        },
                        "text/html": [
                            "<table>",
                            "<tr><th>state</th><th>Penetration_Rate</th></tr>",
                            "<tr><td>Kerala</td><td>5.76</td></tr>",
                            "<tr><td>Chandigarh</td><td>4.5</td></tr>",
                            "<tr><td>Delhi</td><td>4.29</td></tr>",
                            "<tr><td>Karnataka</td><td>4.26</td></tr>",
                            "<tr><td>Goa</td><td>4.25</td></tr>",
                            "</table>"
                        ]
                    }
                }
            ],
            "execution_count": 6
        },
        {
            "cell_type": "markdown",
            "source": [
                "## <span style=\"color: #008000;\">3. List the states with negative penetration (decline) in EV sales from 2022 to 2024?</span>"
            ],
            "metadata": {
                "language": "sql",
                "azdata_cell_guid": "a36ae89e-ee24-4bdb-9a31-ab483a645b9d"
            },
            "attachments": {}
        },
        {
            "cell_type": "code",
            "source": [
                "WITH penetration_22 AS (\r\n",
                "    SELECT\r\n",
                "        s.state,\r\n",
                "        ROUND(SUM(s.electric_vehicles_sold)/CAST(SUM(s.total_vehicles_sold) AS float) * 100, 2) Penetration_Rate\r\n",
                "    FROM electric_vehicle_sales_by_state s\r\n",
                "    INNER JOIN dim_date d ON s.date = d.date\r\n",
                "    WHERE d.fiscal_year = 2022\r\n",
                "    GROUP BY s.state\r\n",
                "),\r\n",
                "\r\n",
                "penetration_24 AS (\r\n",
                "    SELECT\r\n",
                "        s.state,\r\n",
                "        ROUND(SUM(s.electric_vehicles_sold)/CAST(SUM(s.total_vehicles_sold) AS float) * 100, 2) Penetration_Rate\r\n",
                "    FROM electric_vehicle_sales_by_state s\r\n",
                "    INNER JOIN dim_date d ON s.date = d.date\r\n",
                "    WHERE d.fiscal_year = 2024\r\n",
                "    GROUP BY s.state\r\n",
                ")\r\n",
                "\r\n",
                "SELECT\r\n",
                "    p22.state AS State,\r\n",
                "    p22.Penetration_Rate AS Penetration_2022,\r\n",
                "    p24.Penetration_Rate AS Penetration_2024,\r\n",
                "    CASE\r\n",
                "        WHEN p24.Penetration_Rate < p22.Penetration_Rate\r\n",
                "        THEN 'Decline'\r\n",
                "        ELSE 'Postive Penetration'\r\n",
                "    END AS Penetration_Status\r\n",
                "FROM penetration_22 p22\r\n",
                "INNER JOIN penetration_24 p24 ON p22.state = p24.state;"
            ],
            "metadata": {
                "language": "sql",
                "azdata_cell_guid": "b0cc36e3-727b-48e5-bbef-ebf1fbbafb6f"
            },
            "outputs": [
                {
                    "output_type": "display_data",
                    "data": {
                        "text/html": "(34 rows affected)"
                    },
                    "metadata": {}
                },
                {
                    "output_type": "display_data",
                    "data": {
                        "text/html": "Total execution time: 00:00:00.235"
                    },
                    "metadata": {}
                },
                {
                    "output_type": "execute_result",
                    "metadata": {},
                    "execution_count": 7,
                    "data": {
                        "application/vnd.dataresource+json": {
                            "schema": {
                                "fields": [
                                    {
                                        "name": "State"
                                    },
                                    {
                                        "name": "Penetration_2022"
                                    },
                                    {
                                        "name": "Penetration_2024"
                                    },
                                    {
                                        "name": "Penetration_Status"
                                    }
                                ]
                            },
                            "data": [
                                {
                                    "State": "DNH and DD",
                                    "Penetration_2022": "0.28",
                                    "Penetration_2024": "1.21",
                                    "Penetration_Status": "Postive Penetration"
                                },
                                {
                                    "State": "Maharashtra",
                                    "Penetration_2022": "2.9",
                                    "Penetration_2024": "8.6",
                                    "Penetration_Status": "Postive Penetration"
                                },
                                {
                                    "State": "Jammu and Kashmir",
                                    "Penetration_2022": "1.07",
                                    "Penetration_2024": "1.64",
                                    "Penetration_Status": "Postive Penetration"
                                },
                                {
                                    "State": "Punjab",
                                    "Penetration_2022": "1.02",
                                    "Penetration_2024": "1.95",
                                    "Penetration_Status": "Postive Penetration"
                                },
                                {
                                    "State": "Kerala",
                                    "Penetration_2022": "1.98",
                                    "Penetration_2024": "11.59",
                                    "Penetration_Status": "Postive Penetration"
                                },
                                {
                                    "State": "Rajasthan",
                                    "Penetration_2022": "2.28",
                                    "Penetration_2024": "5.11",
                                    "Penetration_Status": "Postive Penetration"
                                },
                                {
                                    "State": "Arunachal Pradesh",
                                    "Penetration_2022": "0",
                                    "Penetration_2024": "0.11",
                                    "Penetration_Status": "Postive Penetration"
                                },
                                {
                                    "State": "Tripura",
                                    "Penetration_2022": "0.07",
                                    "Penetration_2024": "0.65",
                                    "Penetration_Status": "Postive Penetration"
                                },
                                {
                                    "State": "Nagaland",
                                    "Penetration_2022": "0.01",
                                    "Penetration_2024": "0.05",
                                    "Penetration_Status": "Postive Penetration"
                                },
                                {
                                    "State": "Sikkim",
                                    "Penetration_2022": "0",
                                    "Penetration_2024": "0",
                                    "Penetration_Status": "Postive Penetration"
                                },
                                {
                                    "State": "Meghalaya",
                                    "Penetration_2022": "0.02",
                                    "Penetration_2024": "0.36",
                                    "Penetration_Status": "Postive Penetration"
                                },
                                {
                                    "State": "Uttarakhand",
                                    "Penetration_2022": "1.2",
                                    "Penetration_2024": "2.72",
                                    "Penetration_Status": "Postive Penetration"
                                },
                                {
                                    "State": "West Bengal",
                                    "Penetration_2022": "0.31",
                                    "Penetration_2024": "1.75",
                                    "Penetration_Status": "Postive Penetration"
                                },
                                {
                                    "State": "Gujarat",
                                    "Penetration_2022": "1.65",
                                    "Penetration_2024": "5.3",
                                    "Penetration_Status": "Postive Penetration"
                                },
                                {
                                    "State": "Haryana",
                                    "Penetration_2022": "1.12",
                                    "Penetration_2024": "1.61",
                                    "Penetration_Status": "Postive Penetration"
                                },
                                {
                                    "State": "Odisha",
                                    "Penetration_2022": "1.98",
                                    "Penetration_2024": "6.33",
                                    "Penetration_Status": "Postive Penetration"
                                },
                                {
                                    "State": "Tamil Nadu",
                                    "Penetration_2022": "2.74",
                                    "Penetration_2024": "5.49",
                                    "Penetration_Status": "Postive Penetration"
                                },
                                {
                                    "State": "Manipur",
                                    "Penetration_2022": "0.07",
                                    "Penetration_2024": "0.68",
                                    "Penetration_Status": "Postive Penetration"
                                },
                                {
                                    "State": "Chandigarh",
                                    "Penetration_2022": "1.11",
                                    "Penetration_2024": "6.37",
                                    "Penetration_Status": "Postive Penetration"
                                },
                                {
                                    "State": "Jharkhand",
                                    "Penetration_2022": "0.66",
                                    "Penetration_2024": "1.58",
                                    "Penetration_Status": "Postive Penetration"
                                },
                                {
                                    "State": "Uttar Pradesh",
                                    "Penetration_2022": "0.41",
                                    "Penetration_2024": "1.97",
                                    "Penetration_Status": "Postive Penetration"
                                },
                                {
                                    "State": "Karnataka",
                                    "Penetration_2022": "4.28",
                                    "Penetration_2024": "10.18",
                                    "Penetration_Status": "Postive Penetration"
                                },
                                {
                                    "State": "Chhattisgarh",
                                    "Penetration_2022": "1.16",
                                    "Penetration_2024": "5.67",
                                    "Penetration_Status": "Postive Penetration"
                                },
                                {
                                    "State": "Delhi",
                                    "Penetration_2022": "4.12",
                                    "Penetration_2024": "7.71",
                                    "Penetration_Status": "Postive Penetration"
                                },
                                {
                                    "State": "Andhra Pradesh",
                                    "Penetration_2022": "1.8",
                                    "Penetration_2024": "4.24",
                                    "Penetration_Status": "Postive Penetration"
                                },
                                {
                                    "State": "Assam",
                                    "Penetration_2022": "0.19",
                                    "Penetration_2024": "0.64",
                                    "Penetration_Status": "Postive Penetration"
                                },
                                {
                                    "State": "Mizoram",
                                    "Penetration_2022": "0",
                                    "Penetration_2024": "1",
                                    "Penetration_Status": "Postive Penetration"
                                },
                                {
                                    "State": "Bihar",
                                    "Penetration_2022": "0.54",
                                    "Penetration_2024": "1.33",
                                    "Penetration_Status": "Postive Penetration"
                                },
                                {
                                    "State": "Himachal Pradesh",
                                    "Penetration_2022": "0.45",
                                    "Penetration_2024": "0.9",
                                    "Penetration_Status": "Postive Penetration"
                                },
                                {
                                    "State": "Puducherry",
                                    "Penetration_2022": "1.71",
                                    "Penetration_2024": "5.37",
                                    "Penetration_Status": "Postive Penetration"
                                },
                                {
                                    "State": "Goa",
                                    "Penetration_2022": "3.68",
                                    "Penetration_2024": "13.75",
                                    "Penetration_Status": "Postive Penetration"
                                },
                                {
                                    "State": "Madhya Pradesh",
                                    "Penetration_2022": "0.82",
                                    "Penetration_2024": "3.36",
                                    "Penetration_Status": "Postive Penetration"
                                },
                                {
                                    "State": "Andaman & Nicobar Island",
                                    "Penetration_2022": "0.43",
                                    "Penetration_2024": "0.5",
                                    "Penetration_Status": "Postive Penetration"
                                },
                                {
                                    "State": "Ladakh",
                                    "Penetration_2022": "0.41",
                                    "Penetration_2024": "0.97",
                                    "Penetration_Status": "Postive Penetration"
                                }
                            ]
                        },
                        "text/html": [
                            "<table>",
                            "<tr><th>State</th><th>Penetration_2022</th><th>Penetration_2024</th><th>Penetration_Status</th></tr>",
                            "<tr><td>DNH and DD</td><td>0.28</td><td>1.21</td><td>Postive Penetration</td></tr>",
                            "<tr><td>Maharashtra</td><td>2.9</td><td>8.6</td><td>Postive Penetration</td></tr>",
                            "<tr><td>Jammu and Kashmir</td><td>1.07</td><td>1.64</td><td>Postive Penetration</td></tr>",
                            "<tr><td>Punjab</td><td>1.02</td><td>1.95</td><td>Postive Penetration</td></tr>",
                            "<tr><td>Kerala</td><td>1.98</td><td>11.59</td><td>Postive Penetration</td></tr>",
                            "<tr><td>Rajasthan</td><td>2.28</td><td>5.11</td><td>Postive Penetration</td></tr>",
                            "<tr><td>Arunachal Pradesh</td><td>0</td><td>0.11</td><td>Postive Penetration</td></tr>",
                            "<tr><td>Tripura</td><td>0.07</td><td>0.65</td><td>Postive Penetration</td></tr>",
                            "<tr><td>Nagaland</td><td>0.01</td><td>0.05</td><td>Postive Penetration</td></tr>",
                            "<tr><td>Sikkim</td><td>0</td><td>0</td><td>Postive Penetration</td></tr>",
                            "<tr><td>Meghalaya</td><td>0.02</td><td>0.36</td><td>Postive Penetration</td></tr>",
                            "<tr><td>Uttarakhand</td><td>1.2</td><td>2.72</td><td>Postive Penetration</td></tr>",
                            "<tr><td>West Bengal</td><td>0.31</td><td>1.75</td><td>Postive Penetration</td></tr>",
                            "<tr><td>Gujarat</td><td>1.65</td><td>5.3</td><td>Postive Penetration</td></tr>",
                            "<tr><td>Haryana</td><td>1.12</td><td>1.61</td><td>Postive Penetration</td></tr>",
                            "<tr><td>Odisha</td><td>1.98</td><td>6.33</td><td>Postive Penetration</td></tr>",
                            "<tr><td>Tamil Nadu</td><td>2.74</td><td>5.49</td><td>Postive Penetration</td></tr>",
                            "<tr><td>Manipur</td><td>0.07</td><td>0.68</td><td>Postive Penetration</td></tr>",
                            "<tr><td>Chandigarh</td><td>1.11</td><td>6.37</td><td>Postive Penetration</td></tr>",
                            "<tr><td>Jharkhand</td><td>0.66</td><td>1.58</td><td>Postive Penetration</td></tr>",
                            "<tr><td>Uttar Pradesh</td><td>0.41</td><td>1.97</td><td>Postive Penetration</td></tr>",
                            "<tr><td>Karnataka</td><td>4.28</td><td>10.18</td><td>Postive Penetration</td></tr>",
                            "<tr><td>Chhattisgarh</td><td>1.16</td><td>5.67</td><td>Postive Penetration</td></tr>",
                            "<tr><td>Delhi</td><td>4.12</td><td>7.71</td><td>Postive Penetration</td></tr>",
                            "<tr><td>Andhra Pradesh</td><td>1.8</td><td>4.24</td><td>Postive Penetration</td></tr>",
                            "<tr><td>Assam</td><td>0.19</td><td>0.64</td><td>Postive Penetration</td></tr>",
                            "<tr><td>Mizoram</td><td>0</td><td>1</td><td>Postive Penetration</td></tr>",
                            "<tr><td>Bihar</td><td>0.54</td><td>1.33</td><td>Postive Penetration</td></tr>",
                            "<tr><td>Himachal Pradesh</td><td>0.45</td><td>0.9</td><td>Postive Penetration</td></tr>",
                            "<tr><td>Puducherry</td><td>1.71</td><td>5.37</td><td>Postive Penetration</td></tr>",
                            "<tr><td>Goa</td><td>3.68</td><td>13.75</td><td>Postive Penetration</td></tr>",
                            "<tr><td>Madhya Pradesh</td><td>0.82</td><td>3.36</td><td>Postive Penetration</td></tr>",
                            "<tr><td>Andaman &amp; Nicobar Island</td><td>0.43</td><td>0.5</td><td>Postive Penetration</td></tr>",
                            "<tr><td>Ladakh</td><td>0.41</td><td>0.97</td><td>Postive Penetration</td></tr>",
                            "</table>"
                        ]
                    }
                }
            ],
            "execution_count": 7
        },
        {
            "cell_type": "markdown",
            "source": [
                "## <span style=\"color: #008000;\">4. What are the quarterly trends based on sales volume for the top 5 EV makers (4-wheelers) from 2022 to 2024?</span>"
            ],
            "metadata": {
                "language": "sql",
                "azdata_cell_guid": "7546e9d6-5c77-48c1-8fa8-0bfcd15ec036"
            },
            "attachments": {}
        },
        {
            "cell_type": "code",
            "source": [
                "WITH top_5_makers_by_ev_sales AS (\r\n",
                "    SELECT TOP 5\r\n",
                "        e.maker,\r\n",
                "        SUM(e.electric_vehicles_sold) AS ev_sold\r\n",
                "    FROM electric_vehicle_sales_by_makers e\r\n",
                "    JOIN dim_date d ON e.date = d.date\r\n",
                "    WHERE d.fiscal_year BETWEEN 2022 AND 2024\r\n",
                "        AND e.vehicle_category = '4-Wheelers'\r\n",
                "    GROUP BY e.maker\r\n",
                "    ORDER BY ev_sold DESC\r\n",
                "    \r\n",
                ")\r\n",
                "\r\n",
                "SELECT\r\n",
                "    e.maker AS Maker,\r\n",
                "    d.quarter AS Quarter,\r\n",
                "    SUM(e.electric_vehicles_sold) AS EV_Sold\r\n",
                "FROM top_5_makers_by_ev_sales T5\r\n",
                "JOIN electric_vehicle_sales_by_makers e ON T5.maker = e.maker\r\n",
                "JOIN dim_date d ON d.date = e.date\r\n",
                "WHERE d.fiscal_year BETWEEN 2022 AND 2024\r\n",
                "GROUP BY e.maker, d.quarter\r\n",
                "ORDER BY e.maker, d.quarter;"
            ],
            "metadata": {
                "language": "sql",
                "azdata_cell_guid": "7eafe703-137e-4368-8f78-07463763fdcd"
            },
            "outputs": [
                {
                    "output_type": "display_data",
                    "data": {
                        "text/html": "(20 rows affected)"
                    },
                    "metadata": {}
                },
                {
                    "output_type": "display_data",
                    "data": {
                        "text/html": "Total execution time: 00:00:00.028"
                    },
                    "metadata": {}
                },
                {
                    "output_type": "execute_result",
                    "metadata": {},
                    "execution_count": 8,
                    "data": {
                        "application/vnd.dataresource+json": {
                            "schema": {
                                "fields": [
                                    {
                                        "name": "Maker"
                                    },
                                    {
                                        "name": "Quarter"
                                    },
                                    {
                                        "name": "EV_Sold"
                                    }
                                ]
                            },
                            "data": [
                                {
                                    "Maker": "BYD India",
                                    "Quarter": "Q1",
                                    "EV_Sold": "487"
                                },
                                {
                                    "Maker": "BYD India",
                                    "Quarter": "Q2",
                                    "EV_Sold": "423"
                                },
                                {
                                    "Maker": "BYD India",
                                    "Quarter": "Q3",
                                    "EV_Sold": "454"
                                },
                                {
                                    "Maker": "BYD India",
                                    "Quarter": "Q4",
                                    "EV_Sold": "1055"
                                },
                                {
                                    "Maker": "Hyundai Motor",
                                    "Quarter": "Q1",
                                    "EV_Sold": "392"
                                },
                                {
                                    "Maker": "Hyundai Motor",
                                    "Quarter": "Q2",
                                    "EV_Sold": "579"
                                },
                                {
                                    "Maker": "Hyundai Motor",
                                    "Quarter": "Q3",
                                    "EV_Sold": "586"
                                },
                                {
                                    "Maker": "Hyundai Motor",
                                    "Quarter": "Q4",
                                    "EV_Sold": "519"
                                },
                                {
                                    "Maker": "Mahindra & Mahindra",
                                    "Quarter": "Q1",
                                    "EV_Sold": "13286"
                                },
                                {
                                    "Maker": "Mahindra & Mahindra",
                                    "Quarter": "Q2",
                                    "EV_Sold": "9670"
                                },
                                {
                                    "Maker": "Mahindra & Mahindra",
                                    "Quarter": "Q3",
                                    "EV_Sold": "9025"
                                },
                                {
                                    "Maker": "Mahindra & Mahindra",
                                    "Quarter": "Q4",
                                    "EV_Sold": "9212"
                                },
                                {
                                    "Maker": "MG Motor",
                                    "Quarter": "Q1",
                                    "EV_Sold": "2309"
                                },
                                {
                                    "Maker": "MG Motor",
                                    "Quarter": "Q2",
                                    "EV_Sold": "3957"
                                },
                                {
                                    "Maker": "MG Motor",
                                    "Quarter": "Q3",
                                    "EV_Sold": "3766"
                                },
                                {
                                    "Maker": "MG Motor",
                                    "Quarter": "Q4",
                                    "EV_Sold": "3721"
                                },
                                {
                                    "Maker": "Tata Motors",
                                    "Quarter": "Q1",
                                    "EV_Sold": "13953"
                                },
                                {
                                    "Maker": "Tata Motors",
                                    "Quarter": "Q2",
                                    "EV_Sold": "18581"
                                },
                                {
                                    "Maker": "Tata Motors",
                                    "Quarter": "Q3",
                                    "EV_Sold": "23678"
                                },
                                {
                                    "Maker": "Tata Motors",
                                    "Quarter": "Q4",
                                    "EV_Sold": "32723"
                                }
                            ]
                        },
                        "text/html": [
                            "<table>",
                            "<tr><th>Maker</th><th>Quarter</th><th>EV_Sold</th></tr>",
                            "<tr><td>BYD India</td><td>Q1</td><td>487</td></tr>",
                            "<tr><td>BYD India</td><td>Q2</td><td>423</td></tr>",
                            "<tr><td>BYD India</td><td>Q3</td><td>454</td></tr>",
                            "<tr><td>BYD India</td><td>Q4</td><td>1055</td></tr>",
                            "<tr><td>Hyundai Motor</td><td>Q1</td><td>392</td></tr>",
                            "<tr><td>Hyundai Motor</td><td>Q2</td><td>579</td></tr>",
                            "<tr><td>Hyundai Motor</td><td>Q3</td><td>586</td></tr>",
                            "<tr><td>Hyundai Motor</td><td>Q4</td><td>519</td></tr>",
                            "<tr><td>Mahindra &amp; Mahindra</td><td>Q1</td><td>13286</td></tr>",
                            "<tr><td>Mahindra &amp; Mahindra</td><td>Q2</td><td>9670</td></tr>",
                            "<tr><td>Mahindra &amp; Mahindra</td><td>Q3</td><td>9025</td></tr>",
                            "<tr><td>Mahindra &amp; Mahindra</td><td>Q4</td><td>9212</td></tr>",
                            "<tr><td>MG Motor</td><td>Q1</td><td>2309</td></tr>",
                            "<tr><td>MG Motor</td><td>Q2</td><td>3957</td></tr>",
                            "<tr><td>MG Motor</td><td>Q3</td><td>3766</td></tr>",
                            "<tr><td>MG Motor</td><td>Q4</td><td>3721</td></tr>",
                            "<tr><td>Tata Motors</td><td>Q1</td><td>13953</td></tr>",
                            "<tr><td>Tata Motors</td><td>Q2</td><td>18581</td></tr>",
                            "<tr><td>Tata Motors</td><td>Q3</td><td>23678</td></tr>",
                            "<tr><td>Tata Motors</td><td>Q4</td><td>32723</td></tr>",
                            "</table>"
                        ]
                    }
                }
            ],
            "execution_count": 8
        },
        {
            "cell_type": "markdown",
            "source": [
                "## <span style=\"color: #008000;\">5. How do the EV sales and penetration rates in Delhi compare to Karnataka for 2024?</span>"
            ],
            "metadata": {
                "language": "sql",
                "azdata_cell_guid": "5df07868-ec93-4ceb-98fe-9f929170dc66"
            },
            "attachments": {}
        },
        {
            "cell_type": "code",
            "source": [
                "SELECT\r\n",
                "    s.state,\r\n",
                "    SUM(s.electric_vehicles_sold) AS EV_Sold,\r\n",
                "    ROUND(SUM(s.electric_vehicles_sold)/CAST(SUM(s.total_vehicles_sold) AS float) * 100, 2) AS Penetration_Rate\r\n",
                "FROM electric_vehicle_sales_by_state s\r\n",
                "INNER JOIN dim_date d ON s.date = d.date\r\n",
                "WHERE s.state IN ('Delhi', 'Karnataka')\r\n",
                "    AND d.fiscal_year = 2024\r\n",
                "GROUP BY s.state\r\n",
                "ORDER BY Penetration_Rate DESC;"
            ],
            "metadata": {
                "language": "sql",
                "azdata_cell_guid": "3be3ab96-02d1-438f-888f-c7b5e332cb8a"
            },
            "outputs": [
                {
                    "output_type": "display_data",
                    "data": {
                        "text/html": "(2 rows affected)"
                    },
                    "metadata": {}
                },
                {
                    "output_type": "display_data",
                    "data": {
                        "text/html": "Total execution time: 00:00:00.026"
                    },
                    "metadata": {}
                },
                {
                    "output_type": "execute_result",
                    "metadata": {},
                    "execution_count": 9,
                    "data": {
                        "application/vnd.dataresource+json": {
                            "schema": {
                                "fields": [
                                    {
                                        "name": "state"
                                    },
                                    {
                                        "name": "EV_Sold"
                                    },
                                    {
                                        "name": "Penetration_Rate"
                                    }
                                ]
                            },
                            "data": [
                                {
                                    "state": "Karnataka",
                                    "EV_Sold": "160989",
                                    "Penetration_Rate": "10.18"
                                },
                                {
                                    "state": "Delhi",
                                    "EV_Sold": "46724",
                                    "Penetration_Rate": "7.71"
                                }
                            ]
                        },
                        "text/html": [
                            "<table>",
                            "<tr><th>state</th><th>EV_Sold</th><th>Penetration_Rate</th></tr>",
                            "<tr><td>Karnataka</td><td>160989</td><td>10.18</td></tr>",
                            "<tr><td>Delhi</td><td>46724</td><td>7.71</td></tr>",
                            "</table>"
                        ]
                    }
                }
            ],
            "execution_count": 9
        },
        {
            "cell_type": "markdown",
            "source": [
                "## <span style=\"color: #008000;\">6. List down the compounded annual growth rate (CAGR) in 4-wheeler units for the top 5 makers from 2022 to 2024.</span>"
            ],
            "metadata": {
                "language": "sql",
                "azdata_cell_guid": "3a70f2fb-1d1c-48b6-bb63-487489caca0f"
            },
            "attachments": {}
        },
        {
            "cell_type": "code",
            "source": [
                "WITH cagr_calculation AS (\r\n",
                "    SELECT\r\n",
                "        e.maker,\r\n",
                "        ROUND(\r\n",
                "            (POWER(\r\n",
                "                (COALESCE(SUM(CASE WHEN d.fiscal_year = 2024 THEN e.electric_vehicles_sold ELSE 0 END), 0) \r\n",
                "                / CAST(NULLIF(COALESCE(SUM(CASE WHEN d.fiscal_year = 2022 THEN e.electric_vehicles_sold ELSE 0 END), 0), 0)AS FLOAT)),\r\n",
                "                1.0 / 2\r\n",
                "            ) - 1) * 100, 2) AS CAGR\r\n",
                "    FROM electric_vehicle_sales_by_makers e\r\n",
                "    JOIN dim_date d ON e.date = d.date\r\n",
                "    WHERE e.vehicle_category = '4-Wheelers'\r\n",
                "    GROUP BY e.maker\r\n",
                ")\r\n",
                "\r\n",
                "SELECT TOP 5 \r\n",
                "    *\r\n",
                "FROM cagr_calculation\r\n",
                "WHERE CAGR IS NOT NULL\r\n",
                "ORDER BY CAGR DESC;"
            ],
            "metadata": {
                "language": "sql",
                "azdata_cell_guid": "1fe3c7f3-09ad-411d-a8b8-969ed648816e"
            },
            "outputs": [
                {
                    "output_type": "display_data",
                    "data": {
                        "text/html": "(5 rows affected)"
                    },
                    "metadata": {}
                },
                {
                    "output_type": "display_data",
                    "data": {
                        "text/html": "Total execution time: 00:00:00.037"
                    },
                    "metadata": {}
                },
                {
                    "output_type": "execute_result",
                    "metadata": {},
                    "execution_count": 10,
                    "data": {
                        "application/vnd.dataresource+json": {
                            "schema": {
                                "fields": [
                                    {
                                        "name": "maker"
                                    },
                                    {
                                        "name": "CAGR"
                                    }
                                ]
                            },
                            "data": [
                                {
                                    "maker": "BMW India",
                                    "CAGR": "1140.97"
                                },
                                {
                                    "maker": "Volvo Auto India",
                                    "CAGR": "971.21"
                                },
                                {
                                    "maker": "BYD India",
                                    "CAGR": "566.52"
                                },
                                {
                                    "maker": "Hyundai Motor",
                                    "CAGR": "255.48"
                                },
                                {
                                    "maker": "Mercedes -Benz AG",
                                    "CAGR": "234.55"
                                }
                            ]
                        },
                        "text/html": [
                            "<table>",
                            "<tr><th>maker</th><th>CAGR</th></tr>",
                            "<tr><td>BMW India</td><td>1140.97</td></tr>",
                            "<tr><td>Volvo Auto India</td><td>971.21</td></tr>",
                            "<tr><td>BYD India</td><td>566.52</td></tr>",
                            "<tr><td>Hyundai Motor</td><td>255.48</td></tr>",
                            "<tr><td>Mercedes -Benz AG</td><td>234.55</td></tr>",
                            "</table>"
                        ]
                    }
                }
            ],
            "execution_count": 10
        },
        {
            "cell_type": "markdown",
            "source": [
                "## <span style=\"color: #008000;\">7. List down the top 10 states that had the highest compounded annual growth rate (CAGR) from 2022 to 2024 in total vehicles sold.</span>"
            ],
            "metadata": {
                "language": "sql",
                "azdata_cell_guid": "b2ef6588-01e7-403e-b06a-557ffd358554"
            },
            "attachments": {}
        },
        {
            "cell_type": "code",
            "source": [
                "WITH cagr_calculation AS (\r\n",
                "    SELECT\r\n",
                "        s.state\r\n",
                "        ,ROUND(\r\n",
                "            (POWER(\r\n",
                "                (SUM(CASE WHEN d.fiscal_year = 2024 THEN s.electric_vehicles_sold ELSE 0 END) \r\n",
                "                / CAST(NULLIF(SUM(CASE WHEN d.fiscal_year = 2022 THEN s.electric_vehicles_sold ELSE 0 END), 0) AS FLOAT)),\r\n",
                "                1.0 / 2 -- Number of years (2022 to 2024 is 2 years)\r\n",
                "            ) - 1) * 100, 2) AS CAGR\r\n",
                "    FROM electric_vehicle_sales_by_state s\r\n",
                "    JOIN dim_date d ON s.date = d.date\r\n",
                "    GROUP BY s.state\r\n",
                ")\r\n",
                "\r\n",
                "SELECT TOP 10\r\n",
                "\t*\r\n",
                "FROM cagr_calculation\r\n",
                "WHERE CAGR IS NOT NULL\r\n",
                "ORDER BY CAGR DESC;\r\n",
                ""
            ],
            "metadata": {
                "language": "sql",
                "azdata_cell_guid": "6c8d237f-5c80-4c57-aa5e-6983c422c3ec"
            },
            "outputs": [
                {
                    "output_type": "display_data",
                    "data": {
                        "text/html": "(10 rows affected)"
                    },
                    "metadata": {}
                },
                {
                    "output_type": "display_data",
                    "data": {
                        "text/html": "Total execution time: 00:00:00.057"
                    },
                    "metadata": {}
                },
                {
                    "output_type": "execute_result",
                    "metadata": {},
                    "execution_count": 11,
                    "data": {
                        "application/vnd.dataresource+json": {
                            "schema": {
                                "fields": [
                                    {
                                        "name": "state"
                                    },
                                    {
                                        "name": "CAGR"
                                    }
                                ]
                            },
                            "data": [
                                {
                                    "state": "Meghalaya",
                                    "CAGR": "476.63"
                                },
                                {
                                    "state": "Tripura",
                                    "CAGR": "229.5"
                                },
                                {
                                    "state": "Nagaland",
                                    "CAGR": "200"
                                },
                                {
                                    "state": "Chandigarh",
                                    "CAGR": "164.58"
                                },
                                {
                                    "state": "Chhattisgarh",
                                    "CAGR": "150.89"
                                },
                                {
                                    "state": "West Bengal",
                                    "CAGR": "150.62"
                                },
                                {
                                    "state": "Goa",
                                    "CAGR": "146.45"
                                },
                                {
                                    "state": "DNH and DD",
                                    "CAGR": "137.85"
                                },
                                {
                                    "state": "Uttar Pradesh",
                                    "CAGR": "137.7"
                                },
                                {
                                    "state": "Madhya Pradesh",
                                    "CAGR": "133.67"
                                }
                            ]
                        },
                        "text/html": [
                            "<table>",
                            "<tr><th>state</th><th>CAGR</th></tr>",
                            "<tr><td>Meghalaya</td><td>476.63</td></tr>",
                            "<tr><td>Tripura</td><td>229.5</td></tr>",
                            "<tr><td>Nagaland</td><td>200</td></tr>",
                            "<tr><td>Chandigarh</td><td>164.58</td></tr>",
                            "<tr><td>Chhattisgarh</td><td>150.89</td></tr>",
                            "<tr><td>West Bengal</td><td>150.62</td></tr>",
                            "<tr><td>Goa</td><td>146.45</td></tr>",
                            "<tr><td>DNH and DD</td><td>137.85</td></tr>",
                            "<tr><td>Uttar Pradesh</td><td>137.7</td></tr>",
                            "<tr><td>Madhya Pradesh</td><td>133.67</td></tr>",
                            "</table>"
                        ]
                    }
                }
            ],
            "execution_count": 11
        },
        {
            "cell_type": "markdown",
            "source": [
                "## <span style=\"color: #008000;\">8. What are the peak and low season months for EV sales based on the data from 2022 to 2024?</span>"
            ],
            "metadata": {
                "language": "sql",
                "azdata_cell_guid": "27dc279a-64de-4622-a567-1dde57586821"
            },
            "attachments": {}
        },
        {
            "cell_type": "code",
            "source": [
                "SELECT\r\n",
                "    DISTINCT FORMAT(d.date, 'MMMM') AS month_name,\r\n",
                "    SUM(m.electric_vehicles_sold) AS ev_sold\r\n",
                "FROM dim_date d\r\n",
                "JOIN electric_vehicle_sales_by_makers m ON d.date = m.date\r\n",
                "GROUP BY FORMAT(d.date, 'MMMM')\r\n",
                "ORDER BY SUM(m.electric_vehicles_sold) DESC;"
            ],
            "metadata": {
                "language": "sql",
                "azdata_cell_guid": "265f3027-581c-4793-8ef2-e5475d16c074"
            },
            "outputs": [
                {
                    "output_type": "display_data",
                    "data": {
                        "text/html": "(12 rows affected)"
                    },
                    "metadata": {}
                },
                {
                    "output_type": "display_data",
                    "data": {
                        "text/html": "Total execution time: 00:00:00.007"
                    },
                    "metadata": {}
                },
                {
                    "output_type": "execute_result",
                    "metadata": {},
                    "execution_count": 24,
                    "data": {
                        "application/vnd.dataresource+json": {
                            "schema": {
                                "fields": [
                                    {
                                        "name": "month_name"
                                    },
                                    {
                                        "name": "ev_sold"
                                    }
                                ]
                            },
                            "data": [
                                {
                                    "month_name": "March",
                                    "ev_sold": "291587"
                                },
                                {
                                    "month_name": "November",
                                    "ev_sold": "205196"
                                },
                                {
                                    "month_name": "February",
                                    "ev_sold": "198049"
                                },
                                {
                                    "month_name": "January",
                                    "ev_sold": "189099"
                                },
                                {
                                    "month_name": "October",
                                    "ev_sold": "185185"
                                },
                                {
                                    "month_name": "December",
                                    "ev_sold": "180401"
                                },
                                {
                                    "month_name": "May",
                                    "ev_sold": "159869"
                                },
                                {
                                    "month_name": "September",
                                    "ev_sold": "145972"
                                },
                                {
                                    "month_name": "August",
                                    "ev_sold": "141961"
                                },
                                {
                                    "month_name": "April",
                                    "ev_sold": "134657"
                                },
                                {
                                    "month_name": "July",
                                    "ev_sold": "127426"
                                },
                                {
                                    "month_name": "June",
                                    "ev_sold": "106709"
                                }
                            ]
                        },
                        "text/html": [
                            "<table>",
                            "<tr><th>month_name</th><th>ev_sold</th></tr>",
                            "<tr><td>March</td><td>291587</td></tr>",
                            "<tr><td>November</td><td>205196</td></tr>",
                            "<tr><td>February</td><td>198049</td></tr>",
                            "<tr><td>January</td><td>189099</td></tr>",
                            "<tr><td>October</td><td>185185</td></tr>",
                            "<tr><td>December</td><td>180401</td></tr>",
                            "<tr><td>May</td><td>159869</td></tr>",
                            "<tr><td>September</td><td>145972</td></tr>",
                            "<tr><td>August</td><td>141961</td></tr>",
                            "<tr><td>April</td><td>134657</td></tr>",
                            "<tr><td>July</td><td>127426</td></tr>",
                            "<tr><td>June</td><td>106709</td></tr>",
                            "</table>"
                        ]
                    }
                }
            ],
            "execution_count": 24
        },
        {
            "cell_type": "markdown",
            "source": [
                "## <span style=\"color: #008000;\">9. What is the projected number of EV sales (including 2-wheelers and 4-wheelers) for the top 10 states by penetration rate in 2030,&nbsp;</span> <span style=\"color: #008000;\">based on the &nbsp;compounded annual growth rate (CAGR) from previous years?</span>"
            ],
            "metadata": {
                "language": "sql",
                "azdata_cell_guid": "2a3f8836-7d78-45c7-ba67-1c5b429e1cb9"
            },
            "attachments": {}
        },
        {
            "cell_type": "code",
            "source": [
                "WITH cagr_calculation AS (\r\n",
                "    SELECT\r\n",
                "        s.state\r\n",
                "        ,ROUND(\r\n",
                "            (POWER(\r\n",
                "                (SUM(CASE WHEN d.fiscal_year = 2024 THEN s.electric_vehicles_sold ELSE 0 END) \r\n",
                "                / CAST(NULLIF(SUM(CASE WHEN d.fiscal_year = 2022 THEN s.electric_vehicles_sold ELSE 0 END), 0) AS FLOAT)),\r\n",
                "                1.0 / 2\r\n",
                "            ) - 1) * 100, 2) AS CAGR\r\n",
                "    FROM electric_vehicle_sales_by_state s\r\n",
                "    JOIN dim_date d ON s.date = d.date\r\n",
                "    GROUP BY s.state\r\n",
                "),\r\n",
                "\r\n",
                "cagr_by_state AS (\r\n",
                "    SELECT *\r\n",
                "    FROM cagr_calculation\r\n",
                "    WHERE CAGR IS NOT NULL\r\n",
                "),\r\n",
                "\r\n",
                "penetration_rate_by_state AS (\r\n",
                "    SELECT\r\n",
                "        s.state,\r\n",
                "        ROUND(SUM(s.electric_vehicles_sold) / CAST(SUM(s.total_vehicles_sold) AS FLOAT) * 100.0, 2) AS penetration_rate\r\n",
                "    FROM electric_vehicle_sales_by_state s\r\n",
                "    JOIN dim_date d ON s.date = d.date\r\n",
                "    WHERE d.fiscal_year = 2024\r\n",
                "        AND s.vehicle_category = '2-Wheelers'\r\n",
                "    GROUP BY s.state\r\n",
                "),\r\n",
                "\r\n",
                "top_10_states_by_penetration AS (\r\n",
                "    SELECT TOP 10\r\n",
                "        PRBS.state,\r\n",
                "        PRBS.penetration_rate,\r\n",
                "        CBS.CAGR\r\n",
                "    FROM penetration_rate_by_state PRBS\r\n",
                "    JOIN cagr_by_state CBS ON PRBS.state = CBS.state\r\n",
                ")\r\n",
                "\r\n",
                "SELECT\r\n",
                "    T10.state,\r\n",
                "    ROUND(\r\n",
                "        SUM(CASE WHEN d.fiscal_year = 2024 THEN s.electric_vehicles_sold ELSE 0 END)\r\n",
                "        * POWER(1 + T10.CAGR / 100, 2030 - 2024), 0\r\n",
                "    ) AS projected_ev_sales_2030\r\n",
                "FROM top_10_states_by_penetration T10\r\n",
                "JOIN electric_vehicle_sales_by_state s ON T10.state = s.state\r\n",
                "JOIN dim_date d ON s.date = d.date\r\n",
                "WHERE d.fiscal_year = 2024\r\n",
                "GROUP BY T10.state, T10.CAGR\r\n",
                "ORDER BY 2 DESC;\r\n",
                ""
            ],
            "metadata": {
                "language": "sql",
                "azdata_cell_guid": "ea9ceebf-e6a7-4fd5-b3a0-814885378166"
            },
            "outputs": [
                {
                    "output_type": "display_data",
                    "data": {
                        "text/html": "(10 rows affected)"
                    },
                    "metadata": {}
                },
                {
                    "output_type": "display_data",
                    "data": {
                        "text/html": "Total execution time: 00:00:00.238"
                    },
                    "metadata": {}
                },
                {
                    "output_type": "execute_result",
                    "metadata": {},
                    "execution_count": 13,
                    "data": {
                        "application/vnd.dataresource+json": {
                            "schema": {
                                "fields": [
                                    {
                                        "name": "state"
                                    },
                                    {
                                        "name": "projected_ev_sales_2030"
                                    }
                                ]
                            },
                            "data": [
                                {
                                    "state": "Gujarat",
                                    "projected_ev_sales_2030": "8646332"
                                },
                                {
                                    "state": "Chhattisgarh",
                                    "projected_ev_sales_2030": "7117936"
                                },
                                {
                                    "state": "Goa",
                                    "projected_ev_sales_2030": "2419672"
                                },
                                {
                                    "state": "Delhi",
                                    "projected_ev_sales_2030": "1054257"
                                },
                                {
                                    "state": "Chandigarh",
                                    "projected_ev_sales_2030": "986920"
                                },
                                {
                                    "state": "Bihar",
                                    "projected_ev_sales_2030": "457895"
                                },
                                {
                                    "state": "Andhra Pradesh",
                                    "projected_ev_sales_2030": "448699"
                                },
                                {
                                    "state": "Assam",
                                    "projected_ev_sales_2030": "384426"
                                },
                                {
                                    "state": "DNH and DD",
                                    "projected_ev_sales_2030": "35850"
                                },
                                {
                                    "state": "Andaman & Nicobar Island",
                                    "projected_ev_sales_2030": "111"
                                }
                            ]
                        },
                        "text/html": [
                            "<table>",
                            "<tr><th>state</th><th>projected_ev_sales_2030</th></tr>",
                            "<tr><td>Gujarat</td><td>8646332</td></tr>",
                            "<tr><td>Chhattisgarh</td><td>7117936</td></tr>",
                            "<tr><td>Goa</td><td>2419672</td></tr>",
                            "<tr><td>Delhi</td><td>1054257</td></tr>",
                            "<tr><td>Chandigarh</td><td>986920</td></tr>",
                            "<tr><td>Bihar</td><td>457895</td></tr>",
                            "<tr><td>Andhra Pradesh</td><td>448699</td></tr>",
                            "<tr><td>Assam</td><td>384426</td></tr>",
                            "<tr><td>DNH and DD</td><td>35850</td></tr>",
                            "<tr><td>Andaman &amp; Nicobar Island</td><td>111</td></tr>",
                            "</table>"
                        ]
                    }
                }
            ],
            "execution_count": 13
        },
        {
            "cell_type": "markdown",
            "source": [
                "## <span style=\"color: #008000;\">10. Estimate the revenue growth rate of 4-wheeler and 2-wheelers &nbsp;EVs in India for 2022 vs 2024 and 2023 vs 2024,&nbsp;</span> <span style=\"color: #008000;\">assuming an average &nbsp;unit price for 2-Wheelers (85000) and for 4-wheelers (1500000).</span>"
            ],
            "metadata": {
                "azdata_cell_guid": "04fce5de-2c62-417f-8102-2afb5bf83ed1"
            },
            "attachments": {}
        },
        {
            "cell_type": "code",
            "source": [
                "WITH revenue_by_year AS (\r\n",
                "    SELECT\r\n",
                "        s.vehicle_category,\r\n",
                "        d.fiscal_year,\r\n",
                "        SUM(CAST(s.electric_vehicles_sold AS BIGINT) * \r\n",
                "            CASE\r\n",
                "                WHEN s.vehicle_category = '2-Wheelers' THEN 85000\r\n",
                "                WHEN s.vehicle_category = '4-Wheelers' THEN 1500000\r\n",
                "                ELSE 0\r\n",
                "            END\r\n",
                "        ) AS total_revenue\r\n",
                "    FROM electric_vehicle_sales_by_state s\r\n",
                "    JOIN dim_date d ON s.date = d.date\r\n",
                "    WHERE d.fiscal_year IN (2022, 2023, 2024)\r\n",
                "    GROUP BY s.vehicle_category, d.fiscal_year\r\n",
                "),\r\n",
                "\r\n",
                "revenue_growth AS (\r\n",
                "    SELECT\r\n",
                "        vehicle_category,\r\n",
                "        fiscal_year,\r\n",
                "        total_revenue,\r\n",
                "        LAG(total_revenue) OVER (PARTITION BY vehicle_category ORDER BY fiscal_year) AS prev_revenue\r\n",
                "    FROM revenue_by_year\r\n",
                ")\r\n",
                "\r\n",
                "SELECT\r\n",
                "    vehicle_category,\r\n",
                "    fiscal_year,\r\n",
                "    ROUND(((total_revenue - prev_revenue) / NULLIF(CAST(prev_revenue AS FLOAT), 0)) * 100, 2) AS revenue_growth_rate\r\n",
                "FROM revenue_growth\r\n",
                "WHERE fiscal_year IN (2022, 2023, 2024)\r\n",
                "    AND prev_revenue IS NOT NULL\r\n",
                "ORDER BY vehicle_category, fiscal_year;"
            ],
            "metadata": {
                "azdata_cell_guid": "fd354643-5802-4637-aada-0ae27178a45a",
                "language": "sql"
            },
            "outputs": [
                {
                    "output_type": "display_data",
                    "data": {
                        "text/html": "(4 rows affected)"
                    },
                    "metadata": {}
                },
                {
                    "output_type": "display_data",
                    "data": {
                        "text/html": "Total execution time: 00:00:00.139"
                    },
                    "metadata": {}
                },
                {
                    "output_type": "execute_result",
                    "metadata": {},
                    "execution_count": 14,
                    "data": {
                        "application/vnd.dataresource+json": {
                            "schema": {
                                "fields": [
                                    {
                                        "name": "vehicle_category"
                                    },
                                    {
                                        "name": "fiscal_year"
                                    },
                                    {
                                        "name": "revenue_growth_rate"
                                    }
                                ]
                            },
                            "data": [
                                {
                                    "vehicle_category": "2-Wheelers",
                                    "fiscal_year": "2023",
                                    "revenue_growth_rate": "188.2"
                                },
                                {
                                    "vehicle_category": "2-Wheelers",
                                    "fiscal_year": "2024",
                                    "revenue_growth_rate": "28.13"
                                },
                                {
                                    "vehicle_category": "4-Wheelers",
                                    "fiscal_year": "2023",
                                    "revenue_growth_rate": "155.5"
                                },
                                {
                                    "vehicle_category": "4-Wheelers",
                                    "fiscal_year": "2024",
                                    "revenue_growth_rate": "83.08"
                                }
                            ]
                        },
                        "text/html": [
                            "<table>",
                            "<tr><th>vehicle_category</th><th>fiscal_year</th><th>revenue_growth_rate</th></tr>",
                            "<tr><td>2-Wheelers</td><td>2023</td><td>188.2</td></tr>",
                            "<tr><td>2-Wheelers</td><td>2024</td><td>28.13</td></tr>",
                            "<tr><td>4-Wheelers</td><td>2023</td><td>155.5</td></tr>",
                            "<tr><td>4-Wheelers</td><td>2024</td><td>83.08</td></tr>",
                            "</table>"
                        ]
                    }
                }
            ],
            "execution_count": 14
        }
    ]
}